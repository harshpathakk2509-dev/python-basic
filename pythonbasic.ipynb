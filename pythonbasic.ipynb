{
  "nbformat": 4,
  "nbformat_minor": 0,
  "metadata": {
    "colab": {
      "provenance": []
    },
    "kernelspec": {
      "name": "python3",
      "display_name": "Python 3"
    },
    "language_info": {
      "name": "python"
    }
  },
  "cells": [
    {
      "cell_type": "markdown",
      "source": [
        "# python basic questions"
      ],
      "metadata": {
        "id": "DNxFQbwFU9mr"
      }
    },
    {
      "cell_type": "markdown",
      "source": [
        "1>  **What is Python, and why is it popular?**\n",
        "\n",
        "*  python is a programming language, it is high level language which is easy to understand it also known as a mediater between machine language and human language.\n",
        "\n",
        "  **why is it popular**\n",
        "\n",
        "1.   versatility\n",
        "2.   easy to understand\n",
        "3.   easy to write/code\n",
        "4.   time saving\n",
        "5.   use for app development\n",
        "6.   for automation\n",
        "\n",
        "2>  **What is an interpreter in Python?**\n",
        "\n",
        "*   interpreter in python means it helps as a translator it reads the code sequencialy and then translates. it simply means it reads the code and coverts into something which machine can understands.  \n",
        "\n",
        "3> **What are pre-defined keywords in Python?**\n",
        "\n",
        "*   pre-defined keywords in python means something which already defined in python or which has a fixed place in python and cannot used as a name.\n",
        "\n",
        "*   Like >> if,else,while,return,contine,break and many more.\n",
        "\n",
        "4>  **Can keywords be used as variable names?**\n",
        "\n",
        "*   no keyword cannot used as aa variable names.\n",
        "\n",
        "5>  **What is mutability in Python?**\n",
        "\n",
        "*   mutability means something which is reusabale or someting which we can edit like> list,set,or an any obeject.\n",
        "\n",
        "6>  **Why are lists mutable, but tuples are immutable?**\n",
        "*   list is mutable because it is design on that way,in list we got some elemts that makes list mutable such as >> add,remove,update and etc.\n",
        "*   tuples are immmutable because it can design in fixed ways like it is fixed and no one can change,remove,or add anything.\n",
        "\n",
        "7>  ** What is the difference between “==” and “is” operators in Python?**\n",
        "*   \"==\">> this operator checks the equality of the variable simply means whetever two objects have same content.\n",
        "*   \"is\">> this operator checks the location of the memory such as (a is b) this means it checks that data which stores in a is available in b.\n",
        "\n",
        "8>  **What are logical operators in Python**\n",
        "*   logical operators in python means, operators which helps us to make decision such as TRUE or FALSE condition.\n",
        "\n",
        "*   operators are>> (AND), (OR), (NOT).\n",
        "\n",
        "9>  **What is type casting in Python**\n",
        "*   type casting refers to replacing variable value from one data type to another data type for example>> replacing \"int\" to \"str\" or \"float\" to \"int\".\n",
        "\n",
        "10> ** What is the difference between implicit and explicit type casting**\n",
        "*   implicit\n",
        "\n",
        "    * implicit means a type of conversion perform by the interpreter without progranmmer intervation such as >> a=4 #int\n",
        "                                       b=0..5 #float\n",
        "                                       a+b #without user conversion\n",
        "                                       a+b = 4.05\n",
        "* explicit\n",
        "    * explicit coversion means a type of conversion which changes when user intereferes with elements such as >> int,float,str.\n",
        "\n",
        "11> ** What is the purpose of conditional statements in Python?**\n",
        "*   the purpose of conditional operator in python is use for making decision based on multiple condition like if this is true print else no, or if this is false print else false.\n",
        "\n",
        "12> **How does the elif statement work?**\n",
        "*   elif statement is the combination of (else+if=elif). elif statement use when there is multiple if conditions instead of many if and else statement we use elif.\n",
        "\n",
        "13> **What is the difference between for and while loops?\n",
        "*   for>> for loop use when you know how many time you need to repeat.\n",
        "*   while>> while loop use when you need to repeat until result is true or until it satifisfied.\n",
        "\n",
        "14> ** Describe a scenario where a while loop is more suitable than a for loop?**\n",
        "*   scenario where a while loop is more suitable for example>> creating something where we enter password it repeats enter password until met with true password.\n",
        "\n",
        "\n",
        "                                  \n"
      ],
      "metadata": {
        "id": "SMSnaDnOVTDc"
      }
    },
    {
      "cell_type": "markdown",
      "source": [
        "#  Practical Questions"
      ],
      "metadata": {
        "id": "4KvnoXRIUcps"
      }
    },
    {
      "cell_type": "code",
      "source": [
        "1> write a program to print \"hello world\""
      ],
      "metadata": {
        "id": "mg-ZEWApUu_o"
      },
      "execution_count": null,
      "outputs": []
    },
    {
      "cell_type": "code",
      "source": [
        "print(\"hello world\")"
      ],
      "metadata": {
        "colab": {
          "base_uri": "https://localhost:8080/"
        },
        "id": "kLvDb7NvVLX-",
        "outputId": "92f92ace-7933-4e2c-b4d6-7b49dd5ee4d8"
      },
      "execution_count": null,
      "outputs": [
        {
          "output_type": "stream",
          "name": "stdout",
          "text": [
            "hello world\n"
          ]
        }
      ]
    },
    {
      "cell_type": "markdown",
      "source": [
        "2>  Write a Python program that displays your name and age?"
      ],
      "metadata": {
        "id": "LF1IP-A6VQll"
      }
    },
    {
      "cell_type": "code",
      "source": [
        "name = 'harsh'\n",
        "age = 23\n",
        "print(\"my name is : \", name)\n",
        "print(\"my age: \",age)"
      ],
      "metadata": {
        "id": "MeAXIUGmXA95",
        "colab": {
          "base_uri": "https://localhost:8080/"
        },
        "outputId": "2c974528-602c-46dd-ac99-893c09d8d502"
      },
      "execution_count": null,
      "outputs": [
        {
          "output_type": "stream",
          "name": "stdout",
          "text": [
            "my name is :  harsh\n",
            "my age:  23\n"
          ]
        }
      ]
    },
    {
      "cell_type": "markdown",
      "source": [
        "3> Write code to print all the pre-defined keywords in Python using the keyword library?"
      ],
      "metadata": {
        "id": "c9Tai4ZpYIgT"
      }
    },
    {
      "cell_type": "code",
      "source": [
        "help('keywords')"
      ],
      "metadata": {
        "colab": {
          "base_uri": "https://localhost:8080/"
        },
        "id": "E2wfz9UbYX_c",
        "outputId": "d814c13f-1e89-4e67-e4ed-6fa040d82fb6"
      },
      "execution_count": null,
      "outputs": [
        {
          "output_type": "stream",
          "name": "stdout",
          "text": [
            "\n",
            "Here is a list of the Python keywords.  Enter any keyword to get more help.\n",
            "\n",
            "False               class               from                or\n",
            "None                continue            global              pass\n",
            "True                def                 if                  raise\n",
            "and                 del                 import              return\n",
            "as                  elif                in                  try\n",
            "assert              else                is                  while\n",
            "async               except              lambda              with\n",
            "await               finally             nonlocal            yield\n",
            "break               for                 not                 \n",
            "\n"
          ]
        }
      ]
    },
    {
      "cell_type": "markdown",
      "source": [
        "4> Write a program that checks if a given word is a Python keyword?\n",
        "*  not attempted"
      ],
      "metadata": {
        "id": "1r5T8Hm_ZDXI"
      }
    },
    {
      "cell_type": "markdown",
      "source": [],
      "metadata": {
        "id": "Bmwz2pdnYkRZ"
      }
    },
    {
      "cell_type": "markdown",
      "source": [
        "5>  Create a list and tuple in Python, and demonstrate how attempting to change an element works differently for each.?\n"
      ],
      "metadata": {
        "id": "7ny5qYAsYCzl"
      }
    },
    {
      "cell_type": "code",
      "source": [
        "list_1 = [10,20,30,40,50,'harsh']\n",
        "tuple_1 = (11,22,33,44,\"pathak\")\n",
        "\n",
        "list_1.append(60)\n",
        "print(\"updated list: \",list_1)"
      ],
      "metadata": {
        "colab": {
          "base_uri": "https://localhost:8080/"
        },
        "id": "ptT4pRnGalNg",
        "outputId": "eca72294-63fa-4d95-e659-de3d74582630"
      },
      "execution_count": null,
      "outputs": [
        {
          "output_type": "stream",
          "name": "stdout",
          "text": [
            "updated list:  [10, 20, 30, 40, 50, 'harsh', 60]\n"
          ]
        }
      ]
    },
    {
      "cell_type": "code",
      "source": [
        "list_1 = [10,20,30,40,50,'harsh']\n",
        "tuple_1 = (11,22,33,44,\"pathak\")\n",
        "\n",
        "list_1.remove(20)\n",
        "print(\"updated list: \",list_1)"
      ],
      "metadata": {
        "colab": {
          "base_uri": "https://localhost:8080/"
        },
        "id": "zHIfXub5a6_m",
        "outputId": "2408cb96-4e88-45a9-d671-67f5899662f6"
      },
      "execution_count": null,
      "outputs": [
        {
          "output_type": "stream",
          "name": "stdout",
          "text": [
            "updated list:  [10, 30, 40, 50, 'harsh']\n"
          ]
        }
      ]
    },
    {
      "cell_type": "code",
      "source": [
        "list_1 = [10,20,30,40,50,'harsh']\n",
        "tuple_1 = (11,22,33,44,\"pathak\")\n",
        "\n",
        "list_1.extend({70,80})\n",
        "print(\"updated list: \",list_1)"
      ],
      "metadata": {
        "colab": {
          "base_uri": "https://localhost:8080/"
        },
        "id": "n2JSbts6cNjw",
        "outputId": "2a53ee72-9867-4f31-c524-80c900685cd0"
      },
      "execution_count": null,
      "outputs": [
        {
          "output_type": "stream",
          "name": "stdout",
          "text": [
            "updated list:  [10, 20, 30, 40, 50, 'harsh', 80, 70]\n"
          ]
        }
      ]
    },
    {
      "cell_type": "markdown",
      "source": [
        "*  tuples are not modified because it was a immutable or fixed."
      ],
      "metadata": {
        "id": "g1dnBYD_c5Gt"
      }
    },
    {
      "cell_type": "markdown",
      "source": [
        "6>  Write a function to demonstrate the behavior of mutable and immutable arguments?"
      ],
      "metadata": {
        "id": "bJ45VCg5LgP6"
      }
    },
    {
      "cell_type": "code",
      "source": [
        "list_1 = [1, 2, 3, 4, 5]\n",
        "print(\"list before modification:\", list_1)\n",
        "print(\"modifying the list...\")\n",
        "list_1.append(6)\n",
        "print(\"list after modification:\", list_1)"
      ],
      "metadata": {
        "colab": {
          "base_uri": "https://localhost:8080/"
        },
        "id": "LIcbbluEYBvh",
        "outputId": "5df637f5-83a2-433c-91a8-e7cc31c7c042"
      },
      "execution_count": null,
      "outputs": [
        {
          "output_type": "stream",
          "name": "stdout",
          "text": [
            "list before modification: [1, 2, 3, 4, 5]\n",
            "modifying the list...\n",
            "list after modification: [1, 2, 3, 4, 5, 6]\n"
          ]
        }
      ]
    },
    {
      "cell_type": "markdown",
      "source": [
        "7> Write a program that performs basic arithmetic operations on two user-input numbers.?"
      ],
      "metadata": {
        "id": "aoeC09jBMU4s"
      }
    },
    {
      "cell_type": "code",
      "source": [
        "user1 = input(\"enter the number: \")\n",
        "user2 = input(\"enter the number: \")\n",
        "print(\"addition: \",int(user1)+int(user2))"
      ],
      "metadata": {
        "colab": {
          "base_uri": "https://localhost:8080/"
        },
        "id": "dWsDvPHWMchs",
        "outputId": "0964e3da-1135-480b-bcb1-e5696603f082"
      },
      "execution_count": null,
      "outputs": [
        {
          "output_type": "stream",
          "name": "stdout",
          "text": [
            "enter the number: 5\n",
            "enter the number: 5\n",
            "addition:  10\n"
          ]
        }
      ]
    },
    {
      "cell_type": "markdown",
      "source": [
        "8> Write a program to demonstrate the use of logical operators.?"
      ],
      "metadata": {
        "id": "zUAjgLRqOMQx"
      }
    },
    {
      "cell_type": "code",
      "source": [
        "a = 10\n",
        "b = 5\n",
        "print(a and b)"
      ],
      "metadata": {
        "colab": {
          "base_uri": "https://localhost:8080/"
        },
        "id": "HLZnXaaNOk17",
        "outputId": "8e7b802a-24e6-4d9f-e967-5a18e50f7f4d"
      },
      "execution_count": null,
      "outputs": [
        {
          "output_type": "stream",
          "name": "stdout",
          "text": [
            "5\n"
          ]
        }
      ]
    },
    {
      "cell_type": "code",
      "source": [
        "a = 10\n",
        "b = 5\n",
        "print(a or b)"
      ],
      "metadata": {
        "colab": {
          "base_uri": "https://localhost:8080/"
        },
        "id": "JUKBoF59IuPs",
        "outputId": "c49a705e-56b5-49f9-fb96-c6772f24c870"
      },
      "execution_count": null,
      "outputs": [
        {
          "output_type": "stream",
          "name": "stdout",
          "text": [
            "10\n"
          ]
        }
      ]
    },
    {
      "cell_type": "markdown",
      "source": [
        "9> Write code to demonstrate type casting with list elements?"
      ],
      "metadata": {
        "id": "RmL4FRnYJIAK"
      }
    },
    {
      "cell_type": "code",
      "source": [
        "numbers = [\"10\",\"20\",\"30\"]\n",
        "\n",
        "\n",
        "converted= []\n",
        "for n in numbers:\n",
        "  converted.append(int(n))\n",
        "\n",
        "print(\"before numbers\",numbers)\n",
        "print(\"after numbers\",converted)"
      ],
      "metadata": {
        "id": "5vOKrrKWJYz6",
        "colab": {
          "base_uri": "https://localhost:8080/"
        },
        "outputId": "2fb7b95e-9a8c-4840-bdfd-e50ceb930e4c"
      },
      "execution_count": null,
      "outputs": [
        {
          "output_type": "stream",
          "name": "stdout",
          "text": [
            "before numbers ['10', '20', '30']\n",
            "after numbers [10, 20, 30]\n"
          ]
        }
      ]
    },
    {
      "cell_type": "markdown",
      "source": [
        "10>  Write a program that checks if a number is positive, negative, or zero?"
      ],
      "metadata": {
        "id": "a2bf9jZkNRj4"
      }
    },
    {
      "cell_type": "code",
      "source": [
        "number = int(input(\"enter the number: \"))\n",
        "if number>0:\n",
        "  print(\"positive\")\n",
        "elif number<0:\n",
        "  print(\"negative\")\n",
        "else:\n",
        "  print(\"zero\")"
      ],
      "metadata": {
        "colab": {
          "base_uri": "https://localhost:8080/"
        },
        "id": "YFntFOqYNpz6",
        "outputId": "3903784a-7c35-4eca-f6ac-45942d47ae26"
      },
      "execution_count": null,
      "outputs": [
        {
          "output_type": "stream",
          "name": "stdout",
          "text": [
            "enter the number: 0\n",
            "zero\n"
          ]
        }
      ]
    },
    {
      "cell_type": "markdown",
      "source": [
        "11> Write a for loop to print numbers from 1 to 10.?"
      ],
      "metadata": {
        "id": "I_uUrFzGO-wA"
      }
    },
    {
      "cell_type": "code",
      "source": [
        "for i in range(1,11):\n",
        "  print(i)"
      ],
      "metadata": {
        "colab": {
          "base_uri": "https://localhost:8080/"
        },
        "id": "eRDAC0aZPBZz",
        "outputId": "5c2f6891-0665-41e6-8c06-8853d55104ca"
      },
      "execution_count": null,
      "outputs": [
        {
          "output_type": "stream",
          "name": "stdout",
          "text": [
            "1\n",
            "2\n",
            "3\n",
            "4\n",
            "5\n",
            "6\n",
            "7\n",
            "8\n",
            "9\n",
            "10\n"
          ]
        }
      ]
    },
    {
      "cell_type": "markdown",
      "source": [
        "Write a for loop to print numbers from 1 to 10.?"
      ],
      "metadata": {
        "id": "umZKKo7pO2s7"
      }
    },
    {
      "cell_type": "markdown",
      "source": [
        "12> Write a Python program to find the sum of all even numbers between 1 and 50"
      ],
      "metadata": {
        "id": "Z03B0UQ2PT5H"
      }
    },
    {
      "cell_type": "code",
      "source": [
        "total = 0\n",
        "for number in range(1, 51):\n",
        "    if number % 2 == 0:\n",
        "        total += number\n",
        "print(\"Sum of all even numbers between 1 and 50 is:\", total)"
      ],
      "metadata": {
        "colab": {
          "base_uri": "https://localhost:8080/"
        },
        "id": "UhHq9HiMPdHt",
        "outputId": "1aac9555-914f-42e4-bd63-198624dd6a8c"
      },
      "execution_count": null,
      "outputs": [
        {
          "output_type": "stream",
          "name": "stdout",
          "text": [
            "Sum of all even numbers between 1 and 50 is: 650\n"
          ]
        }
      ]
    },
    {
      "cell_type": "markdown",
      "source": [
        "13>  Write a program to reverse a string using a while loop?"
      ],
      "metadata": {
        "id": "M2Ys3x-YQMTu"
      }
    },
    {
      "cell_type": "markdown",
      "source": [],
      "metadata": {
        "id": "aQ5xofW01KQ0"
      }
    },
    {
      "cell_type": "code",
      "source": [
        "original = \"Hello, world!\"\n",
        "reversed_string = original[::-1]\n",
        "print(\"Reversed string:\", reversed_string)"
      ],
      "metadata": {
        "colab": {
          "base_uri": "https://localhost:8080/"
        },
        "id": "1W0sg4DgQ3j4",
        "outputId": "fb418079-a3b0-451c-98e2-24e3647d08dc"
      },
      "execution_count": null,
      "outputs": [
        {
          "output_type": "stream",
          "name": "stdout",
          "text": [
            "Reversed string: !dlrow ,olleH\n"
          ]
        }
      ]
    },
    {
      "cell_type": "markdown",
      "source": [],
      "metadata": {
        "id": "ja-KPJfBRGUI"
      }
    },
    {
      "cell_type": "markdown",
      "source": [],
      "metadata": {
        "id": "pkEXICIxMRYs"
      }
    }
  ]
}